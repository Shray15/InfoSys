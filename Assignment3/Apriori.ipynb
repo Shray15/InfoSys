{
 "cells": [
  {
   "cell_type": "code",
   "execution_count": null,
   "id": "21489b86",
   "metadata": {},
   "outputs": [],
   "source": [
    "import numpy as np\n",
    "import pandas as pd\n",
    "import csv"
   ]
  },
  {
   "cell_type": "code",
   "execution_count": null,
   "id": "8c86dfe4",
   "metadata": {},
   "outputs": [],
   "source": [
    "data = pd.read_csv(\"myDataFile.csv\", low_memory =False)"
   ]
  },
  {
   "cell_type": "code",
   "execution_count": null,
   "id": "48e59e8b",
   "metadata": {},
   "outputs": [],
   "source": [
    "items_name = list(data.columns)\n",
    "items_dict = dict()\n",
    "\n",
    "for i, it in enumerate(items_name):\n",
    "    items_dict[it] = i + 1"
   ]
  },
  {
   "cell_type": "code",
   "execution_count": null,
   "id": "5b368cec",
   "metadata": {},
   "outputs": [],
   "source": []
  },
  {
   "cell_type": "code",
   "execution_count": null,
   "id": "7873eac5",
   "metadata": {},
   "outputs": [],
   "source": [
    "trans = list()\n",
    "\n",
    "for i, r in data.iterrows():\n",
    "    transaction = set()\n",
    "    \n",
    "    for item in items_dict:\n",
    "        if r[item] == 't':\n",
    "            transaction.add(items_dict[item])\n",
    "    trans.append(transaction)\n",
    "trans"
   ]
  },
  {
   "cell_type": "code",
   "execution_count": null,
   "id": "61d971b1",
   "metadata": {},
   "outputs": [],
   "source": [
    "Candidates = {}\n",
    "accepted_itemsets = {}\n",
    "supp_count_L = {}\n",
    "min_support = 0.005\n",
    "l = 1\n",
    "Discarded = {l : []}\n",
    "Candidates.update({l : [ [f] for f in items_dict.values()]})\n",
    "Candidates"
   ]
  },
  {
   "cell_type": "code",
   "execution_count": null,
   "id": "df5809ca",
   "metadata": {},
   "outputs": [],
   "source": [
    "def frequency_of_items(itemset, trans):\n",
    "    count =0\n",
    "    for i in range(len(trans)):\n",
    "        if set(itemset).issubset(set(trans[i])):\n",
    "            count += 1\n",
    "    return count\n",
    "\n",
    "\n",
    "def frequent_subsets(itemsets, transactions, min_support, prev_discarded):\n",
    "    accepted = []\n",
    "    supp = []\n",
    "    new_discard = []\n",
    "    \n",
    "    k = len(prev_discarded.keys())\n",
    "    \n",
    "    for i in range(len(itemsets)):\n",
    "        flag = pruning(set(itemsets[i]),prev_discarded, k)\n",
    "        if flag == False:\n",
    "            count = frequency_of_items(itemsets[i], trans)\n",
    "            c = count/len(transactions)\n",
    "            if c >= min_support:\n",
    "                accepted.append(itemsets[i])\n",
    "                supp.append(c)\n",
    "            else:\n",
    "                new_discard.append(itemsets[i])\n",
    "    return accepted,supp,new_discard\n",
    "\n",
    "def self_join(its):\n",
    "    new_itemsets = []\n",
    "    for i in range(len(its)):\n",
    "        for j in range(i+1, len(its)):\n",
    "            it_join = its[i] + its[j]\n",
    "            if len(it_join) > 0:\n",
    "                new_itemsets.append(it_join)\n",
    "    return new_itemsets\n",
    "\n",
    "def pruning(item, prev_discarded, k):\n",
    "    flag = False\n",
    "    if k > 0:\n",
    "        for j in prev_discarded[k]:\n",
    "            if set(j).issubset(item):\n",
    "                flag = True\n",
    "                break\n",
    "    return flag\n",
    "        \n",
    "\n",
    "def table(items, support):\n",
    "    print(\"Itemsets | Support\")\n",
    "    for k in range(len(items)):\n",
    "        \n",
    "        print(\"{} : {}\".format(items[k], support[k]))\n",
    "        print(\"\\n\\n\")      "
   ]
  },
  {
   "cell_type": "code",
   "execution_count": null,
   "id": "6ab5668b",
   "metadata": {},
   "outputs": [],
   "source": [
    " ######### Generate L1 #############\n",
    "\n",
    "f,supp,dis = frequent_subsets(Candidates[l], trans, min_support, Discarded)\n",
    "Discarded.update({l : dis})\n",
    "accepted_itemsets.update({l : f})\n",
    "supp_count_L.update({l: supp})"
   ]
  },
  {
   "cell_type": "code",
   "execution_count": null,
   "id": "489cf902",
   "metadata": {},
   "outputs": [],
   "source": [
    "k = l + 1\n",
    "flag = False\n",
    "while (flag == False):\n",
    "    Candidates.update({k : self_join(accepted_itemsets[k-1])})\n",
    "    new_itemsets,support_count,new_discarded = frequent_subsets(Candidates[k], trans, min_support, Discarded)\n",
    "    Discarded.update({k : new_discarded})\n",
    "    accepted_itemsets.update({k : new_itemsets})\n",
    "    supp_count_L.update({ k : support_count})\n",
    "    print(\"levels \", k)\n",
    "    if len(accepted_itemsets[k]) ==0:\n",
    "        covergence = True\n",
    "    k +=1"
   ]
  },
  {
   "cell_type": "code",
   "execution_count": null,
   "id": "d4dd1349",
   "metadata": {},
   "outputs": [],
   "source": [
    " table(accepted_itemsets[1], supp_count_L[1])"
   ]
  }
 ],
 "metadata": {
  "kernelspec": {
   "display_name": "Python 3 (ipykernel)",
   "language": "python",
   "name": "python3"
  },
  "language_info": {
   "codemirror_mode": {
    "name": "ipython",
    "version": 3
   },
   "file_extension": ".py",
   "mimetype": "text/x-python",
   "name": "python",
   "nbconvert_exporter": "python",
   "pygments_lexer": "ipython3",
   "version": "3.9.12"
  }
 },
 "nbformat": 4,
 "nbformat_minor": 5
}
